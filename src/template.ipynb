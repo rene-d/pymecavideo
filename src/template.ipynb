{
 "cells": [
  {
   "cell_type": "code",
   "execution_count": null,
   "metadata": {},
   "outputs": [],
   "source": [
    "%matplotlib inline\n",
    "%config InlineBackend.figure_format = 'svg'"
   ]
  },
  {
   "cell_type": "code",
   "execution_count": null,
   "metadata": {},
   "outputs": [],
   "source": [
    "# Imports\n",
    "import numpy as np\n",
    "import matplotlib.pyplot as plt\n",
    "# Paramètres matplotlib\n",
    "plt.rcParams[\"figure.figsize\"] = (9, 6)\n",
    "plt.style.use('seaborn-whitegrid')\n",
    "markersize = 10\n",
    "style = 'b+'"
   ]
  },
  {
   "cell_type": "code",
   "execution_count": null,
   "metadata": {},
   "outputs": [],
   "source": [
    "# Coordonnées de Pymecavideo\n",
    "t = $t\n",
    "x = $x\n",
    "y = $y"
   ]
  },
  {
   "cell_type": "markdown",
   "metadata": {},
   "source": [
    "### Chronogramme"
   ]
  },
  {
   "cell_type": "code",
   "execution_count": null,
   "metadata": {},
   "outputs": [],
   "source": [
    "plt.plot(x, y, style, markersize = markersize)\n",
    "plt.ylabel('Hauteur (m)')\n",
    "plt.xlabel('Distance (m)')\n",
    "plt.title(\"Chronogramme\")\n",
    "plt.show()"
   ]
  },
  {
   "cell_type": "markdown",
   "metadata": {},
   "source": [
    "### Vecteurs vitesse"
   ]
  },
  {
   "cell_type": "code",
   "execution_count": null,
   "metadata": {},
   "outputs": [],
   "source": [
    "Δx = np.array([x[i+1]-x[i-1] for i in range(1, len(x)-1)])\n",
    "Δy = np.array([y[i+1]-y[i-1] for i in range(1, len(y)-1)])\n",
    "Δt = np.array([t[i+1]-t[i-1] for i in range(1, len(t)-1)])\n",
    "vx = Δx/Δt\n",
    "vy = Δy/Δt\n",
    "plt.plot(x, y, style, markersize = markersize)\n",
    "plt.ylabel('Hauteur (m)')\n",
    "plt.title(\"Vecteurs vitesse\")\n",
    "plt.xlabel('Distance (m)')\n",
    "plt.grid(True)\n",
    "plt.quiver(x[1:-1], y[1:-1], vx, vy, scale_units = 'xy', angles = 'xy', width = 0.003)\n",
    "plt.show()"
   ]
  },
  {
   "cell_type": "markdown",
   "metadata": {},
   "source": [
    "### Vecteurs variation de vitesse"
   ]
  },
  {
   "cell_type": "code",
   "execution_count": null,
   "metadata": {},
   "outputs": [],
   "source": [
    "Δvx = np.array([vx[i+1]-vx[i-1] for i in range(1, len(vx)-1)])\n",
    "Δvy = np.array([vy[i+1]-vy[i-1] for i in range(1, len(vy)-1)])\n",
    "plt.plot(x, y, style, markersize = markersize)\n",
    "plt.ylabel('Hauteur (m)')\n",
    "plt.xlabel('Distance (m)')\n",
    "plt.title(\"Vecteurs variation de vitesse\")\n",
    "plt.grid(True)\n",
    "plt.quiver(x[2:-2], y[2:-2], Δvx, Δvy, scale_units = 'xy', angles = 'xy', width = 0.003)\n",
    "plt.show()"
   ]
  },
  {
   "cell_type": "markdown",
   "metadata": {},
   "source": [
    "### Vecteurs accélération"
   ]
  },
  {
   "cell_type": "code",
   "execution_count": null,
   "metadata": {},
   "outputs": [],
   "source": [
    "Δt_ = np.array([t[i+1]-t[i-1] for i in range(2, len(t)-2)])\n",
    "Δvx = np.array([vx[i+1]-vx[i-1] for i in range(1, len(vx)-1)])\n",
    "Δvy = np.array([vy[i+1]-vy[i-1] for i in range(1, len(vy)-1)])\n",
    "ax = Δvx/Δt_\n",
    "ay = Δvy/Δt_\n",
    "plt.plot(x, y, style, markersize = markersize)\n",
    "plt.ylabel('Hauteur (m)')\n",
    "plt.xlabel('Distance (m)')\n",
    "plt.title(\"Vecteurs accélération\")\n",
    "plt.grid(True)\n",
    "plt.quiver(x[2:-2], y[2:-2], ax, ay, scale_units = 'xy', angles = 'xy', width = 0.003)\n",
    "plt.show()"
   ]
  },
  {
   "cell_type": "markdown",
   "metadata": {},
   "source": [
    "### Energies"
   ]
  },
  {
   "cell_type": "code",
   "execution_count": null,
   "metadata": {},
   "outputs": [],
   "source": [
    "# Données\n",
    "m = 1.00 # Masse du système (kg)\n",
    "g = 9.81 # Intensité de la pesanteur (N/kg)"
   ]
  },
  {
   "cell_type": "code",
   "execution_count": null,
   "metadata": {},
   "outputs": [],
   "source": [
    "t_ = t[1:-1]\n",
    "Δx = np.array([x[i+1]-x[i-1] for i in range(1, len(x)-1)])\n",
    "Δy = np.array([y[i+1]-y[i-1] for i in range(1, len(y)-1)])\n",
    "Δt = np.array([t[i+1]-t[i-1] for i in range(1, len(t)-1)])\n",
    "vx = Δx/Δt\n",
    "vy = Δy/Δt\n",
    "v = np.sqrt(vx**2+vy**2)\n",
    "Ec = 0.5*m*v**2\n",
    "Ep = m*g*y[1:-1]\n",
    "Em = Ec + Ep\n",
    "plt.plot(t_, Ec, label = 'Ec')\n",
    "plt.plot(t_, Ep, label = 'Ep')\n",
    "plt.plot(t_, Em, label = 'Em')\n",
    "plt.xlabel('Temps (s)')\n",
    "plt.ylabel('Energies (J)')\n",
    "plt.legend()\n",
    "plt.show()"
   ]
  }
 ],
 "metadata": {
  "kernelspec": {
   "display_name": "Python 3",
   "language": "python",
   "name": "python3"
  },
  "language_info": {
   "codemirror_mode": {
    "name": "ipython",
    "version": 3
   },
   "file_extension": ".py",
   "mimetype": "text/x-python",
   "name": "python",
   "nbconvert_exporter": "python",
   "pygments_lexer": "ipython3",
   "version": "3.9.2"
  }
 },
 "nbformat": 4,
 "nbformat_minor": 4
}
